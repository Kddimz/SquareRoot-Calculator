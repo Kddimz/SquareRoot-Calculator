{
 "cells": [
  {
   "cell_type": "code",
   "execution_count": 1,
   "id": "dc6da821",
   "metadata": {},
   "outputs": [
    {
     "data": {
      "text/plain": [
       "0.7777777777777778"
      ]
     },
     "execution_count": 1,
     "metadata": {},
     "output_type": "execute_result"
    }
   ],
   "source": [
    "import pandas as pd\n",
    "credit= pd.read_csv('credit.csv')\n",
    "from sklearn.ensemble import RandomForestClassifier\n",
    "from sklearn.model_selection  import train_test_split\n",
    "from sklearn.metrics import accuracy_score \n",
    "\n",
    "X=credit.drop(columns=['Creditability','Purpose'])\n",
    "Y = credit['Creditability']\n",
    "X_train, X_test, Y_train, Y_test =train_test_split(X,Y, test_size=0.3)\n",
    "\n",
    "model=RandomForestClassifier()\n",
    "\n",
    "\n",
    "model.fit(X_train, Y_train)\n",
    "\n",
    "predictions= model.predict(X_test)\n",
    "\n",
    "score=accuracy_score(Y_test, predictions)\n",
    "\n",
    "score"
   ]
  }
 ],
 "metadata": {
  "kernelspec": {
   "display_name": "Python 3 (ipykernel)",
   "language": "python",
   "name": "python3"
  },
  "language_info": {
   "codemirror_mode": {
    "name": "ipython",
    "version": 3
   },
   "file_extension": ".py",
   "mimetype": "text/x-python",
   "name": "python",
   "nbconvert_exporter": "python",
   "pygments_lexer": "ipython3",
   "version": "3.10.9"
  }
 },
 "nbformat": 4,
 "nbformat_minor": 5
}
